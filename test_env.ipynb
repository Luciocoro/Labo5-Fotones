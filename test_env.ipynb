{
 "cells": [
  {
   "cell_type": "code",
   "execution_count": 32,
   "metadata": {},
   "outputs": [],
   "source": [
    "import numpy as np\n",
    "import matplotlib.pyplot as plt\n",
    "import pandas as pd\n",
    "import time\n",
    "import os"
   ]
  },
  {
   "cell_type": "code",
   "execution_count": 13,
   "metadata": {},
   "outputs": [],
   "source": [
    "\n",
    "Carpeta_Ruido = \"Ruido de fondo\"\n",
    "Carpeta_Laser = \"Mediciones con laser\"\n",
    "Carpeta_Resistencia = 'Mediciones con Resistencia' \n",
    "\n",
    "batch_nr = 4\n",
    "\n",
    "datos = []\n",
    "tiempo = []\n",
    "\n",
    "\n",
    "filename = rf'Clase 01-11/{Carpeta_Resistencia}/iteración {batch_nr} Medición nro {0}.csv'\n",
    "df = pd.read_csv(filename)\n",
    "t = df['Datos'].values\n",
    "d = df[\"Tiempo\"].values\n",
    "ti = df['Tiempo de integración [ms]'].values\n",
    "pg = df['Polarizacion grande'].values\n",
    "pc = df['Polarizacion chica'].values\n",
    "r = df['Resistencia']\n",
    "\n"
   ]
  },
  {
   "cell_type": "code",
   "execution_count": 15,
   "metadata": {},
   "outputs": [
    {
     "data": {
      "text/plain": [
       "5.0"
      ]
     },
     "execution_count": 15,
     "metadata": {},
     "output_type": "execute_result"
    }
   ],
   "source": [
    "ti[0]"
   ]
  },
  {
   "cell_type": "markdown",
   "metadata": {},
   "source": [
    "Make a new DataFrame iteratively"
   ]
  },
  {
   "cell_type": "code",
   "execution_count": 26,
   "metadata": {},
   "outputs": [
    {
     "name": "stdout",
     "output_type": "stream",
     "text": [
      "Tiempo de medición: 0.014331579208374023s\n"
     ]
    }
   ],
   "source": [
    "t0_i = time.time()\n",
    "iterative_df = pd.DataFrame()\n",
    "iterative_df['Datos'] = d\n",
    "# df['Datos Ch2'] = t2\n",
    "iterative_df[\"Tiempo\"] = t #Tension en R2\n",
    "# df['Tiempo Ch2'] = d2\n",
    "iterative_df['Tiempo de integración [ms]'] = pd.Series(ti[0],index = [0])\n",
    "iterative_df[\"Polarizacion grande\"] = pd.Series(pg[0],index = [0])\n",
    "iterative_df[\"Polarizacion chica\"] = pd.Series(pc[0],index = [0])\n",
    "iterative_df[\"Resistencia\"] = pd.Series(r,index = [0])\n",
    "iterative_df.to_csv(f\"./iterative DF test.csv\", encoding = \"utf-8\")\n",
    "tf_i = time.time()\n",
    "print(f'Tiempo de medición: {tf_i -t0_i}s')"
   ]
  },
  {
   "cell_type": "markdown",
   "metadata": {},
   "source": [
    "DataFrame from dictionary\n"
   ]
  },
  {
   "cell_type": "code",
   "execution_count": 28,
   "metadata": {},
   "outputs": [
    {
     "name": "stdout",
     "output_type": "stream",
     "text": [
      "Tiempo de medición: 0.0004971027374267578s\n"
     ]
    }
   ],
   "source": [
    "t0_d = time.time()\n",
    "\n",
    "datos = {\n",
    "    'Mediciónes' : d,\n",
    "    'Tiempo' : t,\n",
    "    'Tiempo de integración [ms]' : ti[0],\n",
    "    \"Polarizacion grande\" : pg[0],\n",
    "    \"Polarizacion chica\" : pc[0],\n",
    "    \"Resistencia\" : r[0]\n",
    "}\n",
    "dict_df = pd.DataFrame.from_dict(datos)\n",
    "\n",
    "tf_d = time.time()\n",
    "print(f'Tiempo de medición: {tf_d -t0_d}s')"
   ]
  },
  {
   "cell_type": "code",
   "execution_count": 31,
   "metadata": {},
   "outputs": [
    {
     "name": "stdout",
     "output_type": "stream",
     "text": [
      "Hay una diferencia de 28.83021582733813\n"
     ]
    }
   ],
   "source": [
    "print(f'Hay una diferencia de {((abs((tf_i -t0_i)))/(tf_d -t0_d))}')"
   ]
  },
  {
   "cell_type": "code",
   "execution_count": 35,
   "metadata": {},
   "outputs": [],
   "source": [
    "import shutil\n",
    "from os import listdir\n",
    "from os.path import isfile, join"
   ]
  },
  {
   "cell_type": "code",
   "execution_count": 51,
   "metadata": {},
   "outputs": [
    {
     "name": "stdout",
     "output_type": "stream",
     "text": [
      "['iteración 0 Medición nro 0.csv', 'iteración 0 Medición nro 1.csv', 'iteración 0 Medición nro 10.csv', 'iteración 0 Medición nro 100.csv', 'iteración 0 Medición nro 101.csv']\n"
     ]
    }
   ],
   "source": [
    "path = f'Clase 01-11/{Carpeta_Laser}'\n",
    "onlyfiles = [file for file in listdir(path) if isfile(join(path, file))]\n",
    "print(onlyfiles[0:5])"
   ]
  },
  {
   "cell_type": "markdown",
   "metadata": {},
   "source": [
    "Script para mover archivos a carpetas"
   ]
  },
  {
   "cell_type": "code",
   "execution_count": 53,
   "metadata": {},
   "outputs": [],
   "source": [
    "Carpeta_Ruido = \"Ruido de fondo\"\n",
    "Carpeta_Laser = \"Mediciones con laser\"\n",
    "Carpeta_Resistencia = 'Mediciones con Resistencia' \n",
    "\n",
    "for i in range(8):\n",
    "    newpath = f'Clase 01-11/{Carpeta_Laser}/Iteración {i}'\n",
    "    os.makedirs(newpath)\n",
    "    for file in onlyfiles:\n",
    "        if f'iteración {i}' in file:\n",
    "            shutil.move(join(path, file),newpath)\n"
   ]
  }
 ],
 "metadata": {
  "kernelspec": {
   "display_name": "Python 3",
   "language": "python",
   "name": "python3"
  },
  "language_info": {
   "codemirror_mode": {
    "name": "ipython",
    "version": 3
   },
   "file_extension": ".py",
   "mimetype": "text/x-python",
   "name": "python",
   "nbconvert_exporter": "python",
   "pygments_lexer": "ipython3",
   "version": "3.11.9"
  }
 },
 "nbformat": 4,
 "nbformat_minor": 2
}
